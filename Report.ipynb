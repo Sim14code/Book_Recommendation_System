{
 "cells": [
  {
   "cell_type": "markdown",
   "id": "60c66599-527b-4ab5-9547-0ea3fef05e92",
   "metadata": {},
   "source": [
    "Here I have selected a dataset of Book Recommendation from Kaggle.It has 3 files which are Ratings, Users and Books. \r\n",
    "For data pre-processingks\r\n",
    "\tI have dropped the useless cols like ->image links.\r\n",
    "\tThe count of number of ratings is made and the books which have been rated more than 200 times are selected. Rest books are discard         Tables are merged together here.\r\n",
    "\tNow the shape of data is reduced as it is cleaned properly.\r\n",
    "\r\n",
    "To test the data I split it in the form of test and train.\r\n",
    "\r\n",
    "Two models are :\r\n",
    "\r\n",
    "K-Nearest Neighbor (KNN)\r\n",
    "I made book-pivot and compared with the similar ratings of users.For memory-efficiency I used sparse matrix.Here are the results:\r\n",
    "\r\n",
    "MAP: 0.41666666666666663\r\n",
    "NDCG:0.5401396054259062\r\n",
    "MRR: 0.5\r\n",
    "\r\n",
    "I tried to tune hyperparameters by changing the algorithm and number of considerations here .But the accuracy does not change.\r\n",
    "\r\n",
    "Singular Value Decomposition (SVD)\r\n",
    "After tuning the hyper-parameter, using the SVD model and splitting the dataset and fitting into SVD model.Here are the results:\r\n",
    "\r\n",
    "MAP: 0.3436029561064325\r\n",
    "NDCG: 0.6073587048690595\r\n",
    "MRR: 0.5384121687236254\r\n",
    "\r\n",
    "\r\n",
    "\r\n",
    "\r\n",
    "\r\n"
   ]
  }
 ],
 "metadata": {
  "kernelspec": {
   "display_name": "",
   "name": ""
  },
  "language_info": {
   "name": ""
  }
 },
 "nbformat": 4,
 "nbformat_minor": 5
}
